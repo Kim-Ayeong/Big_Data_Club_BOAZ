{
 "cells": [
  {
   "cell_type": "markdown",
   "metadata": {},
   "source": [
    "# BeautifulSoup"
   ]
  },
  {
   "cell_type": "code",
   "execution_count": 1,
   "metadata": {},
   "outputs": [],
   "source": [
    "import numpy as np # pandas 라이브러리 의존성 때문에\n",
    "import pandas as pd # 가져온 데이터를 가공하기 위해\n",
    "from tqdm import tqdm_notebook # 진행률을 표시하기 위해\n",
    "from bs4 import BeautifulSoup\n",
    "from urllib.request import urlopen"
   ]
  },
  {
   "cell_type": "code",
   "execution_count": 2,
   "metadata": {},
   "outputs": [],
   "source": [
    "url_base = 'https://finance.naver.com/marketindex/exchangeList.nhn' #요청할 URL\n",
    "\n",
    "page = urlopen(url_base) #요청해서 가져온 내용\n",
    "\n",
    "soup = BeautifulSoup(page,'html.parser') #page를 html.parser로 parse해 저장"
   ]
  },
  {
   "cell_type": "code",
   "execution_count": 3,
   "metadata": {},
   "outputs": [],
   "source": [
    "#print(soup) #크롬-개발자 도구 코드와 동일"
   ]
  },
  {
   "cell_type": "markdown",
   "metadata": {},
   "source": [
    "## select 함수\n",
    "- soup.select(\"title\")\n",
    "- soup.select(\"p:nth-of-type(3)\")\n",
    "- soup.select(\"body a\")\n",
    "- soup.select(\"html head title\")\n",
    "- soup.select(\"head > title\")\n",
    "- soup.select(\"p > a\")\n",
    "- soup.select(\".sister\")\n",
    "- soup.select(\"[class~=sister]\")\n",
    "- soup.select(\"#link1\")\n",
    "- soup.select(\"a#link2\")"
   ]
  },
  {
   "cell_type": "code",
   "execution_count": 4,
   "metadata": {},
   "outputs": [
    {
     "data": {
      "text/plain": [
       "['미국 USD', '유럽연합 EUR', '일본 JPY (100엔)', '중국 CNY', '홍콩 HKD']"
      ]
     },
     "execution_count": 4,
     "metadata": {},
     "output_type": "execute_result"
    }
   ],
   "source": [
    "cur_name = [td.a.string.strip() for td in soup.select('td.tit')] #td중 class가 tit인 요소\n",
    "cur_name[:5]"
   ]
  },
  {
   "cell_type": "code",
   "execution_count": 5,
   "metadata": {},
   "outputs": [
    {
     "data": {
      "text/plain": [
       "['1,218.00', '1,359.35', '1,146.51', '173.94', '156.78']"
      ]
     },
     "execution_count": 5,
     "metadata": {},
     "output_type": "execute_result"
    }
   ],
   "source": [
    "sale = [ td.string.strip() for td in soup.select('td.sale')]\n",
    "sale[:5]"
   ]
  },
  {
   "cell_type": "markdown",
   "metadata": {},
   "source": [
    "## find 함수\n",
    "find는 하나만 반환하기 때문에 굳이 find를 쓰기 보다 find_all을 쓰는 것이 좋음\n",
    "\n",
    "- soup.find_all(\"title\")\n",
    "- soup.find_all(\"p\", \"title\")\n",
    "- soup.find_all(\"a\")\n",
    "- soup.find_all(id=\"link2\")\n",
    "- import re\n",
    "- soup.find(string=re.compile(\"sisters\"))"
   ]
  },
  {
   "cell_type": "code",
   "execution_count": 6,
   "metadata": {},
   "outputs": [
    {
     "data": {
      "text/plain": [
       "<tr>\n",
       "<td class=\"tit\"><a href=\"/marketindex/exchangeDetail.nhn?marketindexCd=FX_USDKRW\" onclick=\"parent.clickcr(this, 'exl.exlist', 'FX_USDKRW', '1', event);\" target=\"_parent\">\n",
       "\t\t\t\t\n",
       "\t\t\t\t\t\n",
       "\t\t\t\t\t\n",
       "\t\t\t\t\t\n",
       "\t\t\t\t\t미국 USD\n",
       "\t\t\t\t\n",
       "\t\t\t\t</a></td>\n",
       "<td class=\"sale\">1,218.00</td>\n",
       "<td>1,239.31</td>\n",
       "<td>1,196.69</td>\n",
       "<td>1,229.90</td>\n",
       "<td>1,206.10</td>\n",
       "<td>1.000</td>\n",
       "</tr>"
      ]
     },
     "execution_count": 6,
     "metadata": {},
     "output_type": "execute_result"
    }
   ],
   "source": [
    "trs = soup.find('tbody').find_all('tr') # tbody 태그를 찾고 재귀적으로 다시 tr 태그를 찾음\n",
    "#트리 구조로 찾을 수 있음\n",
    "\n",
    "trs[0] # 반환형 리스트이므로 첫번재 원소를 확인"
   ]
  },
  {
   "cell_type": "code",
   "execution_count": 7,
   "metadata": {},
   "outputs": [
    {
     "data": {
      "text/plain": [
       "'미국 USD'"
      ]
     },
     "execution_count": 7,
     "metadata": {},
     "output_type": "execute_result"
    }
   ],
   "source": [
    "trs[0].find_all('td')[0].string.strip()"
   ]
  },
  {
   "cell_type": "markdown",
   "metadata": {},
   "source": [
    "## Table 만들기\n",
    "pandas DataFrame 형태로 저장"
   ]
  },
  {
   "cell_type": "code",
   "execution_count": 8,
   "metadata": {},
   "outputs": [],
   "source": [
    "item = list()\n",
    "for i in range(0,len(trs)):\n",
    "    tds = trs[i].find_all('td')\n",
    "    item.append([tds[j].string.strip() for j in range(0,len(tds))])"
   ]
  },
  {
   "cell_type": "code",
   "execution_count": 9,
   "metadata": {},
   "outputs": [
    {
     "data": {
      "text/html": [
       "<div>\n",
       "<style scoped>\n",
       "    .dataframe tbody tr th:only-of-type {\n",
       "        vertical-align: middle;\n",
       "    }\n",
       "\n",
       "    .dataframe tbody tr th {\n",
       "        vertical-align: top;\n",
       "    }\n",
       "\n",
       "    .dataframe thead th {\n",
       "        text-align: right;\n",
       "    }\n",
       "</style>\n",
       "<table border=\"1\" class=\"dataframe\">\n",
       "  <thead>\n",
       "    <tr style=\"text-align: right;\">\n",
       "      <th></th>\n",
       "      <th>curname</th>\n",
       "      <th>sale</th>\n",
       "      <th>buy</th>\n",
       "      <th>sell</th>\n",
       "      <th>remit</th>\n",
       "      <th>deposit</th>\n",
       "      <th>us_ex</th>\n",
       "    </tr>\n",
       "  </thead>\n",
       "  <tbody>\n",
       "    <tr>\n",
       "      <td>0</td>\n",
       "      <td>미국 USD</td>\n",
       "      <td>1,218.00</td>\n",
       "      <td>1,239.31</td>\n",
       "      <td>1,196.69</td>\n",
       "      <td>1,229.90</td>\n",
       "      <td>1,206.10</td>\n",
       "      <td>1.000</td>\n",
       "    </tr>\n",
       "    <tr>\n",
       "      <td>1</td>\n",
       "      <td>유럽연합 EUR</td>\n",
       "      <td>1,359.35</td>\n",
       "      <td>1,386.40</td>\n",
       "      <td>1,332.30</td>\n",
       "      <td>1,372.94</td>\n",
       "      <td>1,345.76</td>\n",
       "      <td>1.116</td>\n",
       "    </tr>\n",
       "    <tr>\n",
       "      <td>2</td>\n",
       "      <td>일본 JPY (100엔)</td>\n",
       "      <td>1,146.51</td>\n",
       "      <td>1,166.57</td>\n",
       "      <td>1,126.45</td>\n",
       "      <td>1,157.74</td>\n",
       "      <td>1,135.28</td>\n",
       "      <td>0.941</td>\n",
       "    </tr>\n",
       "    <tr>\n",
       "      <td>3</td>\n",
       "      <td>중국 CNY</td>\n",
       "      <td>173.94</td>\n",
       "      <td>182.63</td>\n",
       "      <td>165.25</td>\n",
       "      <td>175.67</td>\n",
       "      <td>172.21</td>\n",
       "      <td>0.143</td>\n",
       "    </tr>\n",
       "    <tr>\n",
       "      <td>4</td>\n",
       "      <td>홍콩 HKD</td>\n",
       "      <td>156.78</td>\n",
       "      <td>159.86</td>\n",
       "      <td>153.70</td>\n",
       "      <td>158.34</td>\n",
       "      <td>155.22</td>\n",
       "      <td>0.129</td>\n",
       "    </tr>\n",
       "  </tbody>\n",
       "</table>\n",
       "</div>"
      ],
      "text/plain": [
       "         curname      sale       buy      sell     remit   deposit  us_ex\n",
       "0         미국 USD  1,218.00  1,239.31  1,196.69  1,229.90  1,206.10  1.000\n",
       "1       유럽연합 EUR  1,359.35  1,386.40  1,332.30  1,372.94  1,345.76  1.116\n",
       "2  일본 JPY (100엔)  1,146.51  1,166.57  1,126.45  1,157.74  1,135.28  0.941\n",
       "3         중국 CNY    173.94    182.63    165.25    175.67    172.21  0.143\n",
       "4         홍콩 HKD    156.78    159.86    153.70    158.34    155.22  0.129"
      ]
     },
     "execution_count": 9,
     "metadata": {},
     "output_type": "execute_result"
    }
   ],
   "source": [
    "table = pd.DataFrame(item)\n",
    "# 통화명, 매매기준율, 현찰-살때, 현찰-팔때, 송금-보낼때, 송금-받을떄, 미화환산율\n",
    "table.columns = ('curname','sale','buy','sell','remit','deposit','us_ex')\n",
    "table.head()"
   ]
  },
  {
   "cell_type": "markdown",
   "metadata": {},
   "source": [
    "## csv로 저장\n",
    "to_csv 함수로 DB 저장"
   ]
  },
  {
   "cell_type": "markdown",
   "metadata": {},
   "source": [
    "# Selenium"
   ]
  },
  {
   "cell_type": "code",
   "execution_count": 11,
   "metadata": {},
   "outputs": [],
   "source": [
    "import numpy as np # pandas 라이브러리 의존성 때문에\n",
    "import pandas as pd # 가져온 데이터를 가공하기 위해\n",
    "from tqdm import tqdm_notebook # 진행률을 표시하기 위해\n",
    "from selenium import webdriver as wd # Chrome 웹드라이버 준비\n",
    "import time # selenium은 sleep을 걸어야해서\n",
    "import urllib\n",
    "import platform # https://pinkwink.kr/1002\n",
    "import getpass # https://pwnbit.kr/22"
   ]
  },
  {
   "cell_type": "code",
   "execution_count": null,
   "metadata": {},
   "outputs": [],
   "source": [
    "# Selenium 드라이버\n",
    "# 운영체제에 맞게 드라이버 선택\n",
    "current_os = platform.system()\n",
    "if current_os == 'Windows': # windows 사용자일 경우\n",
    "    driver = wd.Chrome('./tool/Windows/chromedriver')\n",
    "elif current_os == 'Darwin': # macOS 사용자일 경우\n",
    "    driver = wd.Chrome('./tool/macOS/chromedriver')\n",
    "  \n",
    "#패스 수정\n",
    "#driver = webdriver.Chrome('/path/to/chromedriver') "
   ]
  },
  {
   "cell_type": "markdown",
   "metadata": {},
   "source": [
    "## youtube 로그인하기"
   ]
  },
  {
   "cell_type": "code",
   "execution_count": null,
   "metadata": {},
   "outputs": [],
   "source": [
    "# YouTube 접속하기\n",
    "driver.get('https://www.youtube.com/')"
   ]
  },
  {
   "cell_type": "code",
   "execution_count": null,
   "metadata": {},
   "outputs": [],
   "source": [
    "# YouTube 로그인하는 부분\n",
    "# macOS와 Windows와 css 선택자를 다르게 선택해야함..\n",
    "login_button = driver.find_element_by_css_selector('.style-scope.ytd-button-renderer.style-destructive.size-default')\n",
    "login_button.click()"
   ]
  },
  {
   "cell_type": "code",
   "execution_count": null,
   "metadata": {},
   "outputs": [],
   "source": [
    "# 로그인할 이메일\n",
    "email = '' # 본인의 이메일을 입력하자\n",
    "driver.find_element_by_id('identifierId').send_keys(email)\n",
    "driver.find_element_by_css_selector('.CwaK9').click()"
   ]
  },
  {
   "cell_type": "code",
   "execution_count": null,
   "metadata": {},
   "outputs": [],
   "source": [
    "# 로그인할 비밀번호\n",
    "password = getpass.getpass()\n",
    "driver.find_element_by_css_selector('.whsOnd.zHQkBf').send_keys(password)\n",
    "driver.find_element_by_id('passwordNext').click()"
   ]
  },
  {
   "cell_type": "markdown",
   "metadata": {},
   "source": [
    "## youtube 영상 제목 수집하기\n",
    "- 브라우저 조작 함수 : execute_script\n",
    "- 정보 탐색 함수\n",
    "    - find_elements_by_id\n",
    "    - find_elements_by_tag_name\n",
    "    - find_element_by_css_selector"
   ]
  },
  {
   "cell_type": "code",
   "execution_count": null,
   "metadata": {},
   "outputs": [],
   "source": [
    "# 접속할 사이트\n",
    "# base_url = 'https://www.youtube.com/results'\n",
    "# params = '?search_query=%s'\n",
    "# keyword = urllib.parse.quote('BOAZ 빅데이터')\n",
    "# target_url = base_url + (params%keyword)\n",
    "# 접속\n",
    "# driver.get(target_url)\n",
    "\n",
    "keyword = 'BOAZ 빅데이터'\n",
    "driver.find_element_by_id('search').send_keys(keyword)\n",
    "driver.find_element_by_id('search-icon-legacy').click()"
   ]
  },
  {
   "cell_type": "code",
   "execution_count": null,
   "metadata": {},
   "outputs": [],
   "source": [
    "# 스크롤 이벤트로 정보를 더 load할 수 있음\n",
    "for n in range(5):\n",
    "    driver.execute_script('window.scrollBy(0,1000)') # 자바스크립트를 돌리는 코드\n",
    "    time.sleep(1) # selenium에서는 sleep을 걸어주지 않으면 bot으로 인식당할 수 있음"
   ]
  },
  {
   "cell_type": "code",
   "execution_count": null,
   "metadata": {},
   "outputs": [],
   "source": [
    "# Youtube에 검색된 BOAZ 관련 영상들\n",
    "videos = driver.find_elements_by_tag_name('ytd-video-renderer') # ytd-playlist-renderer안에는 좋아요가 없으므로\n",
    "print('%d개의 영상을 찾았습니다!!'%len(videos))"
   ]
  },
  {
   "cell_type": "code",
   "execution_count": null,
   "metadata": {},
   "outputs": [],
   "source": [
    "boaz_videos = list()\n",
    "boaz_playlist = list()\n",
    "for v in videos:\n",
    "    # BOAZ와 무관한 영상들에 관해서 처리\n",
    "    # 영상제목에 BOAZ나 boaz가 있을시 해당\n",
    "    video_title = v.find_element_by_id('video-title').text\n",
    "    print(video_title)\n",
    "    if (('BOAZ' in video_title) or ('boaz' in video_title) or ('보아즈' in video_title)):\n",
    "        boaz_videos.append(v)"
   ]
  },
  {
   "cell_type": "code",
   "execution_count": null,
   "metadata": {},
   "outputs": [],
   "source": [
    "for v in boaz_videos:\n",
    "    boaz_video_title = v.find_element_by_id('video-title').text\n",
    "    boaz_video_url = v.find_element_by_id('video-title').get_attribute('href')\n",
    "    boaz_playlist.append([boaz_video_title,boaz_video_url])"
   ]
  },
  {
   "cell_type": "code",
   "execution_count": null,
   "metadata": {},
   "outputs": [],
   "source": [
    "df = pd.DataFrame(boaz_playlist,columns=('Title','URL'))\n",
    "df"
   ]
  },
  {
   "cell_type": "markdown",
   "metadata": {},
   "source": [
    "## 좋아요 버튼 누르기"
   ]
  },
  {
   "cell_type": "code",
   "execution_count": null,
   "metadata": {},
   "outputs": [],
   "source": [
    "for i in range(20,25):\n",
    "    print('%2d번째 BOAZ 영상 작업중'%(i+1), end=' ')\n",
    "    driver.get(boaz_playlist[i][1])\n",
    "    driver.implicitly_wait(10) # 충분한 시간을 주지 않을 경우, load에 실패할 가능성이 높아진다\n",
    "    liked = driver.find_elements_by_css_selector('.style-scope.ytd-toggle-button-renderer.style-default-active')\n",
    "    # print(len(liked))\n",
    "    if not liked: # 좋아요의 css가 없을 경우, ( 즉, 좋아요 눌러야할 영상일 경우 )\n",
    "        buttons = driver.find_elements_by_css_selector('.style-scope.ytd-toggle-button-renderer.style-text')\n",
    "        buttons[0].click() # 1번째로 찾은 버튼이 좋아요 버튼이라서\n",
    "        print('-> 좋아요 누름!')\n",
    "        continue\n",
    "    print('-> 이미 눌려있음!')"
   ]
  },
  {
   "cell_type": "markdown",
   "metadata": {},
   "source": [
    "# API\n",
    "https://developers.naver.com/main/ 에서 미리 오픈 API 신청 후 사용"
   ]
  },
  {
   "cell_type": "code",
   "execution_count": null,
   "metadata": {},
   "outputs": [],
   "source": [
    "import requests\n",
    "import getpass"
   ]
  },
  {
   "cell_type": "code",
   "execution_count": null,
   "metadata": {},
   "outputs": [],
   "source": [
    "client_key = '' # 미리 API키를 신청받아야함\n",
    "client_secret = getpass.getpass() "
   ]
  },
  {
   "cell_type": "markdown",
   "metadata": {},
   "source": [
    "## 네이버 뉴스 검색"
   ]
  },
  {
   "cell_type": "code",
   "execution_count": null,
   "metadata": {},
   "outputs": [],
   "source": [
    "keyword = 'BOAZ,빅데이터'"
   ]
  },
  {
   "cell_type": "code",
   "execution_count": null,
   "metadata": {},
   "outputs": [],
   "source": [
    "# 별도 quote_plus() 메서드등 처리할 필요 없음. requests 객체가 알아서 해줌\n",
    "naver_url = 'https://openapi.naver.com/v1/search/news.json?query=%s'%keyword\n",
    "\n",
    "# 요청을 할때, 네이버에서 API를 발급받은 사람인지 확인하기 위해서\n",
    "# Client ID 와 Client Secret를 요구하기 때문에 같이 보내줘야한다\n",
    "header_params = {\"X-Naver-Client-Id\":client_key,\n",
    "                 \"X-Naver-Client-Secret\":client_secret}"
   ]
  },
  {
   "cell_type": "code",
   "execution_count": null,
   "metadata": {
    "scrolled": true
   },
   "outputs": [],
   "source": [
    "# headers= header_params 는 header 변경시에만 필요하고, 그렇지 않으면, requests.get(원하는 URL) 만 해도 됨\n",
    "response = requests.get(naver_url, headers = header_params)\n",
    "\n",
    "# 별도 json.loads() 라이브러리 메서드 사용하지 않아도, reqeusts 라이브러리에 있는 json() 메서드로 간단히 처리 가능함\n",
    "print(response.json())\n",
    "# print(response.text)"
   ]
  },
  {
   "cell_type": "code",
   "execution_count": null,
   "metadata": {},
   "outputs": [],
   "source": [
    "# HTTP 응답 코드는 status_code 에 저장됨\n",
    "# 성공할 시, 코드 200을 의미함\n",
    "if(response.status_code == 200):\n",
    "    data = response.json()\n",
    "    print(data['items'][0]['title'])\n",
    "    print(data['items'][0]['description'])\n",
    "else:\n",
    "    print(\"Error Code:\" + str(response.status_code))"
   ]
  },
  {
   "cell_type": "markdown",
   "metadata": {},
   "source": [
    "# 이미지 크롤링 예제"
   ]
  },
  {
   "cell_type": "markdown",
   "metadata": {},
   "source": [
    "## BeautifulSoup 이용"
   ]
  },
  {
   "cell_type": "code",
   "execution_count": null,
   "metadata": {},
   "outputs": [],
   "source": [
    "from urllib.request import urlopen # 내장함수\n",
    "import requests as req # request => 요청하는거를 웹에 요청한 결과값을 얻어올수 있는 모듈\n",
    "from bs4 import BeautifulSoup # 웹에 요청한 결과를 보내주는 모듈\n",
    "import matplotlib.pyplot as plt\n",
    "import matplotlib.image as mpimg\n",
    "from tqdm import tqdm_notebook\n",
    "import getpass\n",
    "import urllib"
   ]
  },
  {
   "cell_type": "code",
   "execution_count": null,
   "metadata": {},
   "outputs": [],
   "source": [
    "def get_by_bs4(keyword):\n",
    "\n",
    "    # 사용한 구글 url https://www.google.co.kr/search?q=%EB%B2%A4&tbm=isch\n",
    "    url_info = \"https://www.google.co.kr/search?\"\n",
    "\n",
    "    #params에 딕션을 넣어줌\n",
    "    params = {\n",
    "        #명령행에서 받은 인자값을 people로 넣어줌\n",
    "        \"q\" : keyword, #이미지 크롤링을 위해 항상 이 값 유지\n",
    "        \"tbm\":\"isch\" #이미지 크롤링을 위해 항상 이 값 유지\n",
    "    }\n",
    "    #url 요청 파싱값\n",
    "    html_object = req.get(url_info,params) #html_object html source 값\n",
    "\n",
    "    #페이지 status_code 가 200 일때 2XX 는 성공을 이야기함\n",
    "    if html_object.status_code == 200:\n",
    "        \n",
    "        #인스턴스 생성\n",
    "        bs_object = BeautifulSoup(html_object.text,\"html.parser\")\n",
    "        \n",
    "        #인스턴스의 find_all 이라는 함수에 img 태그가 있으면 img_data에 넣어줌\n",
    "        img_data = bs_object.find_all(\"img\")\n",
    "        \n",
    "        # 이미지의 갯수를 세기 위한 객체\n",
    "        cnt = 1\n",
    "        \n",
    "        for i in enumerate(img_data[1:5]):\n",
    "            #딕셔너리를 순서대로 넣어줌\n",
    "            t = urlopen(i[1].attrs['src']).read()\n",
    "\n",
    "            filename = './img/bs4/'+str(keyword)+'-'+str(i[0]+1)+'.jpg'\n",
    "\n",
    "            with open(filename,\"wb\") as f:\n",
    "                f.write(t)\n",
    "            print(\"%d번째 %s 이미지 저장완료\"%(cnt,keyword))\n",
    "            cnt += 1\n",
    "            \n",
    "            img = mpimg.imread(filename)\n",
    "            imgplot = plt.imshow(img)\n",
    "            plt.show()"
   ]
  },
  {
   "cell_type": "code",
   "execution_count": null,
   "metadata": {},
   "outputs": [],
   "source": [
    "get_by_bs4('빅데이터 BOAZ')"
   ]
  },
  {
   "cell_type": "markdown",
   "metadata": {},
   "source": [
    "## API 이용"
   ]
  },
  {
   "cell_type": "code",
   "execution_count": 24,
   "metadata": {},
   "outputs": [
    {
     "name": "stdout",
     "output_type": "stream",
     "text": [
      "········\n"
     ]
    }
   ],
   "source": [
    "client_id = '' # API 신청해서 발급받은 ID\n",
    "client_secret = getpass.getpass() # 2QJ5N39nnB"
   ]
  },
  {
   "cell_type": "code",
   "execution_count": null,
   "metadata": {},
   "outputs": [],
   "source": [
    "def make_naver_search_api_url(node, search_text, start_num, disp_num):\n",
    "    base_url = 'https://openapi.naver.com/v1/search/' + node + '.json'\n",
    "    param_query = \"?query=\" + urllib.parse.quote(search_text)\n",
    "    param_start = \"&start=\" + str(start_num)\n",
    "    param_disp = \"&display=\" + str(disp_num)\n",
    "    \n",
    "    return base_url + param_query + param_start + param_disp"
   ]
  },
  {
   "cell_type": "code",
   "execution_count": null,
   "metadata": {},
   "outputs": [],
   "source": [
    "def get_request_url(API_url, client_id, client_secret):\n",
    "    import json\n",
    "    request = urllib.request.Request(API_url)\n",
    "    request.add_header(\"X-Naver-Client-Id\", client_id)\n",
    "    request.add_header(\"X-Naver-Client-Secret\", client_secret)\n",
    "    request.add_header(\"Content-Type\",\"application/json\")\n",
    "    \n",
    "    response = urllib.request.urlopen(request)\n",
    "    if response.getcode() == 200:\n",
    "        return json.load(response)\n",
    "    else:\n",
    "        return None\n",
    "        print(\"--- error ---\")"
   ]
  },
  {
   "cell_type": "code",
   "execution_count": null,
   "metadata": {},
   "outputs": [],
   "source": [
    "keyword = '빅데이터 BOAZ'\n",
    "api_url = make_naver_search_api_url('image', keyword, 1, 10)\n",
    "result = get_request_url(api_url, client_id, client_secret)\n",
    "\n",
    "i = 0\n",
    "items = result['items']\n",
    "for d in tqdm_notebook(items):\n",
    "    filename = str(keyword)+'-'+str(i)\n",
    "    savepath = './img/api/'\n",
    "    urllib.request.urlretrieve(items[i]['thumbnail'],savepath+filename+'.jpg')\n",
    "    print(items[i]['link'][:80] + ' 이미지 저장')\n",
    "    i+=1"
   ]
  },
  {
   "cell_type": "markdown",
   "metadata": {},
   "source": [
    "## 그 외 크롤러"
   ]
  },
  {
   "cell_type": "code",
   "execution_count": null,
   "metadata": {},
   "outputs": [],
   "source": [
    "from icrawler.builtin import GoogleImageCrawler\n",
    "\n",
    "google_crawler = GoogleImageCrawler(storage={'root_dir': './img/etc'})\n",
    "google_crawler.crawl(keyword='cat', max_num=10)"
   ]
  },
  {
   "cell_type": "code",
   "execution_count": null,
   "metadata": {},
   "outputs": [],
   "source": []
  }
 ],
 "metadata": {
  "kernelspec": {
   "display_name": "Python 3",
   "language": "python",
   "name": "python3"
  },
  "language_info": {
   "codemirror_mode": {
    "name": "ipython",
    "version": 3
   },
   "file_extension": ".py",
   "mimetype": "text/x-python",
   "name": "python",
   "nbconvert_exporter": "python",
   "pygments_lexer": "ipython3",
   "version": "3.7.4"
  },
  "toc": {
   "base_numbering": 1,
   "nav_menu": {},
   "number_sections": true,
   "sideBar": true,
   "skip_h1_title": false,
   "title_cell": "Table of Contents",
   "title_sidebar": "Contents",
   "toc_cell": false,
   "toc_position": {
    "height": "calc(100% - 180px)",
    "left": "10px",
    "top": "150px",
    "width": "165px"
   },
   "toc_section_display": true,
   "toc_window_display": true
  },
  "varInspector": {
   "cols": {
    "lenName": 16,
    "lenType": 16,
    "lenVar": 40
   },
   "kernels_config": {
    "python": {
     "delete_cmd_postfix": "",
     "delete_cmd_prefix": "del ",
     "library": "var_list.py",
     "varRefreshCmd": "print(var_dic_list())"
    },
    "r": {
     "delete_cmd_postfix": ") ",
     "delete_cmd_prefix": "rm(",
     "library": "var_list.r",
     "varRefreshCmd": "cat(var_dic_list()) "
    }
   },
   "types_to_exclude": [
    "module",
    "function",
    "builtin_function_or_method",
    "instance",
    "_Feature"
   ],
   "window_display": false
  }
 },
 "nbformat": 4,
 "nbformat_minor": 2
}
