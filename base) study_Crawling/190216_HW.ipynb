{
 "cells": [
  {
   "cell_type": "code",
   "execution_count": 1,
   "metadata": {},
   "outputs": [],
   "source": [
    "import requests"
   ]
  },
  {
   "cell_type": "code",
   "execution_count": 2,
   "metadata": {},
   "outputs": [],
   "source": [
    "req = requests.get('http://www.jobkorea.co.kr/Top100/?Main_Career_Type=1&Search_Type=1&BizJobtype_Bctgr_Code=10016&BizJobtype_Bctgr_Name=IT%C2%B7%EC%9D%B8%ED%84%B0%EB%84%B7&Major_Big_Code=0&Major_Big_Name=%EC%A0%84%EC%B2%B4&Edu_Level_Code=9&Edu_Level_Name=%EC%A0%84%EC%B2%B4')"
   ]
  },
  {
   "cell_type": "code",
   "execution_count": 3,
   "metadata": {
    "scrolled": false
   },
   "outputs": [],
   "source": [
    "html = req.text # Html 소스 크롤링\n",
    "#html"
   ]
  },
  {
   "cell_type": "code",
   "execution_count": 4,
   "metadata": {},
   "outputs": [
    {
     "data": {
      "text/plain": [
       "{'Cache-Control': 'no-cache, no-store, must-revalidate', 'Pragma': 'no-cache', 'Content-Type': 'text/html; charset=utf-8', 'Expires': '-1', 'Set-Cookie': 'ASP.NET_SessionId=jhst3whox5whuqaoue41m3ed; path=/; HttpOnly, jobkorea=Site_Oem_Code=C1; domain=jobkorea.co.kr; expires=Sun, 15-Mar-2020 04:38:38 GMT; path=/, WMONID=jvnctAdcrLy; expires=Sun, 14-Mar-2021 04:38:38 GMT; path=/', 'Date': 'Sat, 14 Mar 2020 04:38:37 GMT', 'Content-Length': '44862', 'Vary': 'Accept-Encoding', 'Content-Encoding': 'gzip', 'Connection': 'Keep-Alive'}"
      ]
     },
     "execution_count": 4,
     "metadata": {},
     "output_type": "execute_result"
    }
   ],
   "source": [
    "header = req.headers # HTTP header 가져오기\n",
    "header"
   ]
  },
  {
   "cell_type": "code",
   "execution_count": 5,
   "metadata": {},
   "outputs": [
    {
     "data": {
      "text/plain": [
       "200"
      ]
     },
     "execution_count": 5,
     "metadata": {},
     "output_type": "execute_result"
    }
   ],
   "source": [
    "status = req.status_code # Http status 가져오기 (200이 정상)\n",
    "status"
   ]
  },
  {
   "cell_type": "code",
   "execution_count": 6,
   "metadata": {},
   "outputs": [
    {
     "data": {
      "text/plain": [
       "True"
      ]
     },
     "execution_count": 6,
     "metadata": {},
     "output_type": "execute_result"
    }
   ],
   "source": [
    "is_ok = req.ok # HTTP 정상인지 bool 값\n",
    "is_ok"
   ]
  },
  {
   "cell_type": "code",
   "execution_count": 7,
   "metadata": {},
   "outputs": [],
   "source": [
    "from bs4 import BeautifulSoup"
   ]
  },
  {
   "cell_type": "code",
   "execution_count": 8,
   "metadata": {
    "scrolled": true
   },
   "outputs": [],
   "source": [
    "soup = BeautifulSoup(html,'html.parser') # beautifulsoup 로 html 소스를 python 객체로 변환하기, 파이썬 내장 html.parsewr 이용\n",
    "#soup"
   ]
  },
  {
   "cell_type": "code",
   "execution_count": 9,
   "metadata": {
    "scrolled": true
   },
   "outputs": [
    {
     "data": {
      "text/plain": [
       "[<a class=\"coLink\" href=\"/Company/1941030\" target=\"_blank\" title=\"기업정보 이동\"><b>㈜신세계아이앤씨</b></a>,\n",
       " <a class=\"coLink\" href=\"/Company/1633805\" target=\"_blank\" title=\"기업정보 이동\"><b>포스코</b></a>,\n",
       " <a class=\"coLink\" href=\"/Company/1845948\" target=\"_blank\" title=\"기업정보 이동\"><b>㈜JYP엔터테인먼트</b></a>,\n",
       " <a class=\"coLink\" href=\"/Company/1658723\" target=\"_blank\" title=\"기업정보 이동\"><b>현대트랜시스㈜</b></a>,\n",
       " <a class=\"coLink\" href=\"/Company/1450187\" target=\"_blank\" title=\"기업정보 이동\"><b>㈜우아한형제들</b></a>,\n",
       " <a class=\"coLink\" href=\"/Recruit/Co_Read/C/stoy9981?Oem_Code=C1\" target=\"_blank\" title=\"기업정보 이동\"><b>㈜한국생활건강</b></a>,\n",
       " <a class=\"coLink\" href=\"/Recruit/Co_Read/C/wadiz01?Oem_Code=C1\" target=\"_blank\" title=\"기업정보 이동\"><b>와디즈플랫폼㈜</b></a>,\n",
       " <a class=\"coLink\" href=\"/Company/1784225\" target=\"_blank\" title=\"기업정보 이동\"><b>㈜이스트소프트</b></a>,\n",
       " <a class=\"coLink\" href=\"/Recruit/Co_Read/C/jjdtir?Oem_Code=C1\" target=\"_blank\" title=\"기업정보 이동\"><b>롯데관광개발</b></a>,\n",
       " <a class=\"coLink\" href=\"/Company/1572368\" target=\"_blank\" title=\"기업정보 이동\"><b>교촌 에프앤비㈜</b></a>]"
      ]
     },
     "execution_count": 9,
     "metadata": {},
     "output_type": "execute_result"
    }
   ],
   "source": [
    "my_title = soup.select('body > #wrap > #container > #content > #form1 > div.topContent > #devTypeTab_1 > div.rankListWrap > div.rankListArea.devSarterTab > ol.rankList > li > div.co > div.coTit > a') # '#', : 이하 정보는 삭제, body 안의 h3 안의 a 태그를 가져옴\n",
    "my_title"
   ]
  },
  {
   "cell_type": "code",
   "execution_count": 10,
   "metadata": {
    "scrolled": true
   },
   "outputs": [
    {
     "name": "stdout",
     "output_type": "stream",
     "text": [
      "㈜신세계아이앤씨\n",
      "/Company/1941030\n",
      "포스코\n",
      "/Company/1633805\n",
      "㈜JYP엔터테인먼트\n",
      "/Company/1845948\n",
      "현대트랜시스㈜\n",
      "/Company/1658723\n",
      "㈜우아한형제들\n",
      "/Company/1450187\n",
      "㈜한국생활건강\n",
      "/Recruit/Co_Read/C/stoy9981?Oem_Code=C1\n",
      "와디즈플랫폼㈜\n",
      "/Recruit/Co_Read/C/wadiz01?Oem_Code=C1\n",
      "㈜이스트소프트\n",
      "/Company/1784225\n",
      "롯데관광개발\n",
      "/Recruit/Co_Read/C/jjdtir?Oem_Code=C1\n",
      "교촌 에프앤비㈜\n",
      "/Company/1572368\n"
     ]
    }
   ],
   "source": [
    "for title in my_title :\n",
    "    print(title.text) # a 태그 사이에 있는 text 추출\n",
    "    print(title.get('href')) # a 링크 추출"
   ]
  },
  {
   "cell_type": "code",
   "execution_count": 11,
   "metadata": {},
   "outputs": [],
   "source": [
    "import json\n",
    "import os"
   ]
  },
  {
   "cell_type": "code",
   "execution_count": 12,
   "metadata": {},
   "outputs": [],
   "source": [
    "file_path=\"./datas/\" # 주피터 내 datas 폴더에 파일 저장"
   ]
  },
  {
   "cell_type": "code",
   "execution_count": 13,
   "metadata": {},
   "outputs": [],
   "source": [
    "data = {}"
   ]
  },
  {
   "cell_type": "code",
   "execution_count": 14,
   "metadata": {
    "scrolled": true
   },
   "outputs": [],
   "source": [
    "for title in my_title : \n",
    "    data[title.text] = title.get('href') #하이퍼링크만 추출"
   ]
  },
  {
   "cell_type": "code",
   "execution_count": 15,
   "metadata": {
    "scrolled": true
   },
   "outputs": [
    {
     "data": {
      "text/plain": [
       "{'㈜신세계아이앤씨': '/Company/1941030',\n",
       " '포스코': '/Company/1633805',\n",
       " '㈜JYP엔터테인먼트': '/Company/1845948',\n",
       " '현대트랜시스㈜': '/Company/1658723',\n",
       " '㈜우아한형제들': '/Company/1450187',\n",
       " '㈜한국생활건강': '/Recruit/Co_Read/C/stoy9981?Oem_Code=C1',\n",
       " '와디즈플랫폼㈜': '/Recruit/Co_Read/C/wadiz01?Oem_Code=C1',\n",
       " '㈜이스트소프트': '/Company/1784225',\n",
       " '롯데관광개발': '/Recruit/Co_Read/C/jjdtir?Oem_Code=C1',\n",
       " '교촌 에프앤비㈜': '/Company/1572368'}"
      ]
     },
     "execution_count": 15,
     "metadata": {},
     "output_type": "execute_result"
    }
   ],
   "source": [
    "data"
   ]
  },
  {
   "cell_type": "code",
   "execution_count": 16,
   "metadata": {},
   "outputs": [],
   "source": [
    "with open(os.path.join(file_path, 'result.json'), 'w+') as json_file: #json 파일로 저장\n",
    "    json.dump(data, json_file)"
   ]
  },
  {
   "cell_type": "code",
   "execution_count": 17,
   "metadata": {},
   "outputs": [],
   "source": [
    "import pandas as pd"
   ]
  },
  {
   "cell_type": "code",
   "execution_count": 18,
   "metadata": {},
   "outputs": [],
   "source": [
    "df = pd.DataFrame(columns=[\"title\", \"href\"])"
   ]
  },
  {
   "cell_type": "code",
   "execution_count": 19,
   "metadata": {},
   "outputs": [
    {
     "data": {
      "text/html": [
       "<div>\n",
       "<style scoped>\n",
       "    .dataframe tbody tr th:only-of-type {\n",
       "        vertical-align: middle;\n",
       "    }\n",
       "\n",
       "    .dataframe tbody tr th {\n",
       "        vertical-align: top;\n",
       "    }\n",
       "\n",
       "    .dataframe thead th {\n",
       "        text-align: right;\n",
       "    }\n",
       "</style>\n",
       "<table border=\"1\" class=\"dataframe\">\n",
       "  <thead>\n",
       "    <tr style=\"text-align: right;\">\n",
       "      <th></th>\n",
       "      <th>title</th>\n",
       "      <th>href</th>\n",
       "    </tr>\n",
       "  </thead>\n",
       "  <tbody>\n",
       "    <tr>\n",
       "      <td>0</td>\n",
       "      <td>㈜신세계아이앤씨</td>\n",
       "      <td>/Company/1941030</td>\n",
       "    </tr>\n",
       "    <tr>\n",
       "      <td>1</td>\n",
       "      <td>포스코</td>\n",
       "      <td>/Company/1633805</td>\n",
       "    </tr>\n",
       "    <tr>\n",
       "      <td>2</td>\n",
       "      <td>㈜JYP엔터테인먼트</td>\n",
       "      <td>/Company/1845948</td>\n",
       "    </tr>\n",
       "    <tr>\n",
       "      <td>3</td>\n",
       "      <td>현대트랜시스㈜</td>\n",
       "      <td>/Company/1658723</td>\n",
       "    </tr>\n",
       "    <tr>\n",
       "      <td>4</td>\n",
       "      <td>㈜우아한형제들</td>\n",
       "      <td>/Company/1450187</td>\n",
       "    </tr>\n",
       "    <tr>\n",
       "      <td>5</td>\n",
       "      <td>㈜한국생활건강</td>\n",
       "      <td>/Recruit/Co_Read/C/stoy9981?Oem_Code=C1</td>\n",
       "    </tr>\n",
       "    <tr>\n",
       "      <td>6</td>\n",
       "      <td>와디즈플랫폼㈜</td>\n",
       "      <td>/Recruit/Co_Read/C/wadiz01?Oem_Code=C1</td>\n",
       "    </tr>\n",
       "    <tr>\n",
       "      <td>7</td>\n",
       "      <td>㈜이스트소프트</td>\n",
       "      <td>/Company/1784225</td>\n",
       "    </tr>\n",
       "    <tr>\n",
       "      <td>8</td>\n",
       "      <td>롯데관광개발</td>\n",
       "      <td>/Recruit/Co_Read/C/jjdtir?Oem_Code=C1</td>\n",
       "    </tr>\n",
       "    <tr>\n",
       "      <td>9</td>\n",
       "      <td>교촌 에프앤비㈜</td>\n",
       "      <td>/Company/1572368</td>\n",
       "    </tr>\n",
       "  </tbody>\n",
       "</table>\n",
       "</div>"
      ],
      "text/plain": [
       "        title                                     href\n",
       "0    ㈜신세계아이앤씨                         /Company/1941030\n",
       "1         포스코                         /Company/1633805\n",
       "2  ㈜JYP엔터테인먼트                         /Company/1845948\n",
       "3     현대트랜시스㈜                         /Company/1658723\n",
       "4     ㈜우아한형제들                         /Company/1450187\n",
       "5     ㈜한국생활건강  /Recruit/Co_Read/C/stoy9981?Oem_Code=C1\n",
       "6     와디즈플랫폼㈜   /Recruit/Co_Read/C/wadiz01?Oem_Code=C1\n",
       "7     ㈜이스트소프트                         /Company/1784225\n",
       "8      롯데관광개발    /Recruit/Co_Read/C/jjdtir?Oem_Code=C1\n",
       "9    교촌 에프앤비㈜                         /Company/1572368"
      ]
     },
     "execution_count": 19,
     "metadata": {},
     "output_type": "execute_result"
    }
   ],
   "source": [
    "for title in my_title : \n",
    "    df.loc[len(df)] = [title.text, title.get(\"href\")] #index는 0부터 시작, length는 1부터 시작\n",
    "df"
   ]
  },
  {
   "cell_type": "code",
   "execution_count": 20,
   "metadata": {},
   "outputs": [],
   "source": [
    "df.to_csv(file_path + \"result.csv\") #csv 파일로 저장"
   ]
  },
  {
   "cell_type": "code",
   "execution_count": 21,
   "metadata": {},
   "outputs": [],
   "source": [
    "#링크 앞에 사이트 주소를 붙이면 바로 이동 가능\n",
    "#무조건 selenium을 써야하는건 아니지만 인증절차가 필요할 때는 사용해야함\n",
    "#selenium은 속도가 느림 > get으로 다 받아오기\n",
    "#중간이 보안문자가 뜨면 직접 타이핑"
   ]
  }
 ],
 "metadata": {
  "kernelspec": {
   "display_name": "Python 3",
   "language": "python",
   "name": "python3"
  },
  "language_info": {
   "codemirror_mode": {
    "name": "ipython",
    "version": 3
   },
   "file_extension": ".py",
   "mimetype": "text/x-python",
   "name": "python",
   "nbconvert_exporter": "python",
   "pygments_lexer": "ipython3",
   "version": "3.7.4"
  },
  "toc": {
   "base_numbering": 1,
   "nav_menu": {},
   "number_sections": true,
   "sideBar": true,
   "skip_h1_title": false,
   "title_cell": "Table of Contents",
   "title_sidebar": "Contents",
   "toc_cell": false,
   "toc_position": {
    "height": "calc(100% - 180px)",
    "left": "10px",
    "top": "150px",
    "width": "165px"
   },
   "toc_section_display": true,
   "toc_window_display": false
  },
  "varInspector": {
   "cols": {
    "lenName": 16,
    "lenType": 16,
    "lenVar": 40
   },
   "kernels_config": {
    "python": {
     "delete_cmd_postfix": "",
     "delete_cmd_prefix": "del ",
     "library": "var_list.py",
     "varRefreshCmd": "print(var_dic_list())"
    },
    "r": {
     "delete_cmd_postfix": ") ",
     "delete_cmd_prefix": "rm(",
     "library": "var_list.r",
     "varRefreshCmd": "cat(var_dic_list()) "
    }
   },
   "types_to_exclude": [
    "module",
    "function",
    "builtin_function_or_method",
    "instance",
    "_Feature"
   ],
   "window_display": false
  }
 },
 "nbformat": 4,
 "nbformat_minor": 2
}
